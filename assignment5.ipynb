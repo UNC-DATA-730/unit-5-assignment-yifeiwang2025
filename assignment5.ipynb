{
 "cells": [
  {
   "cell_type": "markdown",
   "id": "df0d234f-1e1a-4495-8208-e177e7f527aa",
   "metadata": {},
   "source": [
    "Complete the exercises below For **Assignment #5**."
   ]
  },
  {
   "cell_type": "markdown",
   "id": "dda5a856-c272-4fdd-8670-d66a0cf2c7e4",
   "metadata": {},
   "source": [
    "In this exercise, we are building a logistic regression classification model. We'll work with the [Pima Indians Diabetes Database](https://www.kaggle.com/datasets/uciml/pima-indians-diabetes-database).  "
   ]
  },
  {
   "cell_type": "markdown",
   "id": "c123800d-7139-4c31-ba42-82b8a8eb7ff5",
   "metadata": {},
   "source": [
    "Load the `tidymodels` library. "
   ]
  },
  {
   "cell_type": "code",
   "execution_count": 2,
   "id": "047c6e53-68f8-466b-ae3c-1bc19e288f27",
   "metadata": {
    "tags": []
   },
   "outputs": [
    {
     "name": "stderr",
     "output_type": "stream",
     "text": [
      "Warning message:\n",
      "“Your system is mis-configured: ‘/var/db/timezone/localtime’ is not a symlink”\n",
      "Warning message:\n",
      "“‘/var/db/timezone/localtime’ is not identical to any known timezone file”\n",
      "── \u001b[1mAttaching packages\u001b[22m ────────────────────────────────────── tidymodels 1.3.0 ──\n",
      "\n",
      "\u001b[32m✔\u001b[39m \u001b[34mbroom       \u001b[39m 1.0.8     \u001b[32m✔\u001b[39m \u001b[34mrecipes     \u001b[39m 1.3.0\n",
      "\u001b[32m✔\u001b[39m \u001b[34mdials       \u001b[39m 1.4.0     \u001b[32m✔\u001b[39m \u001b[34mrsample     \u001b[39m 1.3.0\n",
      "\u001b[32m✔\u001b[39m \u001b[34mdplyr       \u001b[39m 1.1.4     \u001b[32m✔\u001b[39m \u001b[34mtibble      \u001b[39m 3.2.1\n",
      "\u001b[32m✔\u001b[39m \u001b[34mggplot2     \u001b[39m 3.5.2     \u001b[32m✔\u001b[39m \u001b[34mtidyr       \u001b[39m 1.3.1\n",
      "\u001b[32m✔\u001b[39m \u001b[34minfer       \u001b[39m 1.0.8     \u001b[32m✔\u001b[39m \u001b[34mtune        \u001b[39m 1.3.0\n",
      "\u001b[32m✔\u001b[39m \u001b[34mmodeldata   \u001b[39m 1.4.0     \u001b[32m✔\u001b[39m \u001b[34mworkflows   \u001b[39m 1.2.0\n",
      "\u001b[32m✔\u001b[39m \u001b[34mparsnip     \u001b[39m 1.3.1     \u001b[32m✔\u001b[39m \u001b[34mworkflowsets\u001b[39m 1.1.0\n",
      "\u001b[32m✔\u001b[39m \u001b[34mpurrr       \u001b[39m 1.0.4     \u001b[32m✔\u001b[39m \u001b[34myardstick   \u001b[39m 1.3.2\n",
      "\n",
      "── \u001b[1mConflicts\u001b[22m ───────────────────────────────────────── tidymodels_conflicts() ──\n",
      "\u001b[31m✖\u001b[39m \u001b[34mpurrr\u001b[39m::\u001b[32mdiscard()\u001b[39m masks \u001b[34mscales\u001b[39m::discard()\n",
      "\u001b[31m✖\u001b[39m \u001b[34mdplyr\u001b[39m::\u001b[32mfilter()\u001b[39m  masks \u001b[34mstats\u001b[39m::filter()\n",
      "\u001b[31m✖\u001b[39m \u001b[34mdplyr\u001b[39m::\u001b[32mlag()\u001b[39m     masks \u001b[34mstats\u001b[39m::lag()\n",
      "\u001b[31m✖\u001b[39m \u001b[34mrecipes\u001b[39m::\u001b[32mstep()\u001b[39m  masks \u001b[34mstats\u001b[39m::step()\n",
      "\n"
     ]
    }
   ],
   "source": [
    "library(tidymodels)\n",
    "library(ggplot2)\n"
   ]
  },
  {
   "cell_type": "markdown",
   "id": "c6ef6a10-5b45-4857-b776-a81f92a0b682",
   "metadata": {},
   "source": [
    "The data is located in your homework directory in the `diabetes.csv` file. Read in the data by running the following cell. We are \"splitting\" the data into training and testing sets. We will evaluate our model's performance with the test set."
   ]
  },
  {
   "cell_type": "code",
   "execution_count": 3,
   "id": "e68fb274-ddbe-4ae0-a927-2c4d57d3b31a",
   "metadata": {
    "tags": []
   },
   "outputs": [
    {
     "name": "stderr",
     "output_type": "stream",
     "text": [
      "\u001b[1mRows: \u001b[22m\u001b[34m768\u001b[39m \u001b[1mColumns: \u001b[22m\u001b[34m9\u001b[39m\n",
      "\u001b[36m──\u001b[39m \u001b[1mColumn specification\u001b[22m \u001b[36m────────────────────────────────────────────────────────\u001b[39m\n",
      "\u001b[1mDelimiter:\u001b[22m \",\"\n",
      "\u001b[32mdbl\u001b[39m (9): Pregnancies, Glucose, BloodPressure, SkinThickness, Insulin, BMI, D...\n",
      "\n",
      "\u001b[36mℹ\u001b[39m Use `spec()` to retrieve the full column specification for this data.\n",
      "\u001b[36mℹ\u001b[39m Specify the column types or set `show_col_types = FALSE` to quiet this message.\n"
     ]
    }
   ],
   "source": [
    "diabetes = readr::read_csv('diabetes.csv') |> mutate(Outcome = factor(Outcome))\n",
    "\n",
    "split = initial_split(diabetes, strata = Outcome)\n",
    "\n",
    "diabetes_train = training(split)\n",
    "diabetes_test = testing(split)"
   ]
  },
  {
   "cell_type": "markdown",
   "id": "8b09de69-a735-4176-9eae-39479d2a3836",
   "metadata": {},
   "source": [
    "Glimpse the `diabetes_train` table."
   ]
  },
  {
   "cell_type": "code",
   "execution_count": 4,
   "id": "31877cc1-ae94-4002-9c95-30244b8df393",
   "metadata": {
    "tags": []
   },
   "outputs": [
    {
     "name": "stdout",
     "output_type": "stream",
     "text": [
      "Rows: 576\n",
      "Columns: 9\n",
      "$ Pregnancies              \u001b[3m\u001b[90m<dbl>\u001b[39m\u001b[23m 1\u001b[90m, \u001b[39m10\u001b[90m, \u001b[39m10\u001b[90m, \u001b[39m1\u001b[90m, \u001b[39m3\u001b[90m, \u001b[39m8\u001b[90m, \u001b[39m13\u001b[90m, \u001b[39m5\u001b[90m, \u001b[39m5\u001b[90m, \u001b[39m3\u001b[90m, \u001b[39m6\u001b[90m, \u001b[39m10\u001b[90m, \u001b[39m4\u001b[90m, \u001b[39m11…\n",
      "$ Glucose                  \u001b[3m\u001b[90m<dbl>\u001b[39m\u001b[23m 85\u001b[90m, \u001b[39m115\u001b[90m, \u001b[39m139\u001b[90m, \u001b[39m103\u001b[90m, \u001b[39m126\u001b[90m, \u001b[39m99\u001b[90m, \u001b[39m145\u001b[90m, \u001b[39m117\u001b[90m, \u001b[39m109\u001b[90m, \u001b[39m88…\n",
      "$ BloodPressure            \u001b[3m\u001b[90m<dbl>\u001b[39m\u001b[23m 66\u001b[90m, \u001b[39m0\u001b[90m, \u001b[39m80\u001b[90m, \u001b[39m30\u001b[90m, \u001b[39m88\u001b[90m, \u001b[39m84\u001b[90m, \u001b[39m82\u001b[90m, \u001b[39m92\u001b[90m, \u001b[39m75\u001b[90m, \u001b[39m58\u001b[90m, \u001b[39m92\u001b[90m, \u001b[39m78…\n",
      "$ SkinThickness            \u001b[3m\u001b[90m<dbl>\u001b[39m\u001b[23m 29\u001b[90m, \u001b[39m0\u001b[90m, \u001b[39m0\u001b[90m, \u001b[39m38\u001b[90m, \u001b[39m41\u001b[90m, \u001b[39m0\u001b[90m, \u001b[39m19\u001b[90m, \u001b[39m0\u001b[90m, \u001b[39m26\u001b[90m, \u001b[39m11\u001b[90m, \u001b[39m0\u001b[90m, \u001b[39m31\u001b[90m, \u001b[39m33…\n",
      "$ Insulin                  \u001b[3m\u001b[90m<dbl>\u001b[39m\u001b[23m 0\u001b[90m, \u001b[39m0\u001b[90m, \u001b[39m0\u001b[90m, \u001b[39m83\u001b[90m, \u001b[39m235\u001b[90m, \u001b[39m0\u001b[90m, \u001b[39m110\u001b[90m, \u001b[39m0\u001b[90m, \u001b[39m0\u001b[90m, \u001b[39m54\u001b[90m, \u001b[39m0\u001b[90m, \u001b[39m0\u001b[90m, \u001b[39m192…\n",
      "$ BMI                      \u001b[3m\u001b[90m<dbl>\u001b[39m\u001b[23m 26.6\u001b[90m, \u001b[39m35.3\u001b[90m, \u001b[39m27.1\u001b[90m, \u001b[39m43.3\u001b[90m, \u001b[39m39.3\u001b[90m, \u001b[39m35.4\u001b[90m, \u001b[39m22.2\u001b[90m, \u001b[39m34.…\n",
      "$ DiabetesPedigreeFunction \u001b[3m\u001b[90m<dbl>\u001b[39m\u001b[23m 0.351\u001b[90m, \u001b[39m0.134\u001b[90m, \u001b[39m1.441\u001b[90m, \u001b[39m0.183\u001b[90m, \u001b[39m0.704\u001b[90m, \u001b[39m0.388\u001b[90m, \u001b[39m0.2…\n",
      "$ Age                      \u001b[3m\u001b[90m<dbl>\u001b[39m\u001b[23m 31\u001b[90m, \u001b[39m29\u001b[90m, \u001b[39m57\u001b[90m, \u001b[39m33\u001b[90m, \u001b[39m27\u001b[90m, \u001b[39m50\u001b[90m, \u001b[39m57\u001b[90m, \u001b[39m38\u001b[90m, \u001b[39m60\u001b[90m, \u001b[39m22\u001b[90m, \u001b[39m28\u001b[90m, \u001b[39m4…\n",
      "$ Outcome                  \u001b[3m\u001b[90m<fct>\u001b[39m\u001b[23m 0\u001b[90m, \u001b[39m0\u001b[90m, \u001b[39m0\u001b[90m, \u001b[39m0\u001b[90m, \u001b[39m0\u001b[90m, \u001b[39m0\u001b[90m, \u001b[39m0\u001b[90m, \u001b[39m0\u001b[90m, \u001b[39m0\u001b[90m, \u001b[39m0\u001b[90m, \u001b[39m0\u001b[90m, \u001b[39m0\u001b[90m, \u001b[39m0\u001b[90m, \u001b[39m0\u001b[90m, \u001b[39m0\u001b[90m, \u001b[39m…\n"
     ]
    }
   ],
   "source": [
    "glimpse(diabetes_train)\n",
    "\n"
   ]
  },
  {
   "cell_type": "markdown",
   "id": "c061892f-14af-4342-8098-6799d6117391",
   "metadata": {},
   "source": [
    "❓ Which variable is suitable as the \"outcome\" in a logistic regression model?\n",
    "\n",
    "**Answer:**"
   ]
  },
  {
   "cell_type": "markdown",
   "id": "2e04b3ec-5659-4db7-9733-f00607a38578",
   "metadata": {},
   "source": [
    "Outcome, whether or not had diabetes, is suitable as the \"outcome\" in a logistic regression model. "
   ]
  },
  {
   "cell_type": "markdown",
   "id": "16827b78-d5b4-4037-b89b-fa2ed13f0968",
   "metadata": {},
   "source": [
    "❓ Navigate to [Kaggle page](https://www.kaggle.com/datasets/mathchi/diabetes-data-set) for this dataset. Find descriptions for the `Glucose` and `BMI` columns. Add these descriptions to the [Markdown table](https://www.markdownguide.org/extended-syntax/#tables) below."
   ]
  },
  {
   "cell_type": "markdown",
   "id": "8025ad75-2a7b-43cd-9df4-77677abdf492",
   "metadata": {},
   "source": [
    "| Column name | Description |\n",
    "| :---------- | :---------- |\n",
    "| Glucose     |  Plasma glucose concentration a 2 hours in an oral glucose tolerance test         \n",
    "| BMI         |   Body mass index (weight in kg/(height in m)^2)           |"
   ]
  },
  {
   "cell_type": "markdown",
   "id": "1ad31340-2c33-48a6-9a5b-468b970e670c",
   "metadata": {},
   "source": [
    "Make a bar chart showing the frequency of each \"outcome\" in the `Outcome` column from your `diabetes_train` data."
   ]
  },
  {
   "cell_type": "code",
   "execution_count": 5,
   "id": "579fb58c-0b0d-4fff-9b0e-826d38247a29",
   "metadata": {
    "tags": []
   },
   "outputs": [
    {
     "data": {
      "image/png": "[encoded data removed]",
      "text/plain": [
       "plot without title"
      ]
     },
     "metadata": {
      "image/png": {
       "height": 500,
       "width": 625
      }
     },
     "output_type": "display_data"
    }
   ],
   "source": [
    "ggplot(data=diabetes_train, mapping = aes(x=Outcome)) +\n",
    "    geom_bar() "
   ]
  },
  {
   "cell_type": "markdown",
   "id": "cc6a0694-256c-45a1-bcf5-bdebeb472a7b",
   "metadata": {},
   "source": [
    "❓ Is the data balanced? I.e. do we have equal counts of each outcome?\n",
    "\n",
    "**Answer:**"
   ]
  },
  {
   "cell_type": "markdown",
   "id": "0b178de5-fe37-4912-b3eb-cbf2ac0c0470",
   "metadata": {},
   "source": [
    "The data is not balanced. We do not have equal counts of each outcome.\n",
    "\n"
   ]
  },
  {
   "cell_type": "markdown",
   "id": "f7cbe99d-468c-45fa-83ba-7a372b1557e5",
   "metadata": {},
   "source": [
    "Run the code below to create a table for plotting the predictors we will use in our model: `Glucose` and `BMI`. "
   ]
  },
  {
   "cell_type": "code",
   "execution_count": 6,
   "id": "f65b95e2-0a95-4684-8017-30ae1b8bee5f",
   "metadata": {
    "tags": []
   },
   "outputs": [
    {
     "data": {
      "text/html": [
       "<table class=\"dataframe\">\n",
       "<caption>A tibble: 6 × 3</caption>\n",
       "<thead>\n",
       "\t<tr><th scope=col>Outcome</th><th scope=col>name</th><th scope=col>value</th></tr>\n",
       "\t<tr><th scope=col>&lt;fct&gt;</th><th scope=col>&lt;chr&gt;</th><th scope=col>&lt;dbl&gt;</th></tr>\n",
       "</thead>\n",
       "<tbody>\n",
       "\t<tr><td>0</td><td>Glucose</td><td> 85.0</td></tr>\n",
       "\t<tr><td>0</td><td>BMI    </td><td> 26.6</td></tr>\n",
       "\t<tr><td>0</td><td>Glucose</td><td>115.0</td></tr>\n",
       "\t<tr><td>0</td><td>BMI    </td><td> 35.3</td></tr>\n",
       "\t<tr><td>0</td><td>Glucose</td><td>139.0</td></tr>\n",
       "\t<tr><td>0</td><td>BMI    </td><td> 27.1</td></tr>\n",
       "</tbody>\n",
       "</table>\n"
      ],
      "text/latex": [
       "A tibble: 6 × 3\n",
       "\\begin{tabular}{lll}\n",
       " Outcome & name & value\\\\\n",
       " <fct> & <chr> & <dbl>\\\\\n",
       "\\hline\n",
       "\t 0 & Glucose &  85.0\\\\\n",
       "\t 0 & BMI     &  26.6\\\\\n",
       "\t 0 & Glucose & 115.0\\\\\n",
       "\t 0 & BMI     &  35.3\\\\\n",
       "\t 0 & Glucose & 139.0\\\\\n",
       "\t 0 & BMI     &  27.1\\\\\n",
       "\\end{tabular}\n"
      ],
      "text/markdown": [
       "\n",
       "A tibble: 6 × 3\n",
       "\n",
       "| Outcome &lt;fct&gt; | name &lt;chr&gt; | value &lt;dbl&gt; |\n",
       "|---|---|---|\n",
       "| 0 | Glucose |  85.0 |\n",
       "| 0 | BMI     |  26.6 |\n",
       "| 0 | Glucose | 115.0 |\n",
       "| 0 | BMI     |  35.3 |\n",
       "| 0 | Glucose | 139.0 |\n",
       "| 0 | BMI     |  27.1 |\n",
       "\n"
      ],
      "text/plain": [
       "  Outcome name    value\n",
       "1 0       Glucose  85.0\n",
       "2 0       BMI      26.6\n",
       "3 0       Glucose 115.0\n",
       "4 0       BMI      35.3\n",
       "5 0       Glucose 139.0\n",
       "6 0       BMI      27.1"
      ]
     },
     "metadata": {},
     "output_type": "display_data"
    }
   ],
   "source": [
    "plot_df = diabetes_train |>\n",
    "    select(Outcome, Glucose, BMI) |>\n",
    "    pivot_longer(cols = c(Glucose, BMI))\n",
    "\n",
    "plot_df |> head()"
   ]
  },
  {
   "cell_type": "markdown",
   "id": "67ccafeb-cd48-41cf-b3b8-d027aba80966",
   "metadata": {},
   "source": [
    "Using `plot_df`, make a chart showing the relationship of `Glucose` and `BMI` with `Outcome`. \n",
    "\n",
    "- use `geom_jitter` for your \"geom\"\n",
    "- `facet_wrap` your chart by the `name` variable. (e.g. `facet_wrap(~name, ncol = 2, scales = 'free_x')`)"
   ]
  },
  {
   "cell_type": "code",
   "execution_count": 7,
   "id": "d8025f46-2434-4b03-8f44-39d89f905c25",
   "metadata": {
    "tags": []
   },
   "outputs": [
    {
     "data": {
      "image/png": "[encoded data removed]",
      "text/plain": [
       "plot without title"
      ]
     },
     "metadata": {
      "image/png": {
       "height": 500,
       "width": 625
      }
     },
     "output_type": "display_data"
    }
   ],
   "source": [
    "ggplot(plot_df, mapping = aes(x = value, y = Outcome)) +\n",
    "       geom_point() +\n",
    "       facet_wrap(~name, ncol = 2, scales = 'free_x')\n",
    "\n"
   ]
  },
  {
   "cell_type": "markdown",
   "id": "29a0eccb-f3d5-49f5-b397-92b35b45e514",
   "metadata": {},
   "source": [
    "❓ What happens when you remove the `scales = 'free_x'` argument from the `facet_wrap` function?\n",
    "\n",
    "**Answer:**"
   ]
  },
  {
   "cell_type": "markdown",
   "id": "7a8196d4-faea-4714-9ddc-164f9426cce5",
   "metadata": {},
   "source": [
    "The scale on the x-axis would be the same for BMI and glucose. "
   ]
  },
  {
   "cell_type": "code",
   "execution_count": 8,
   "id": "ce75916b-76c8-4dfc-8829-3a9c97212b5d",
   "metadata": {
    "tags": []
   },
   "outputs": [
    {
     "data": {
      "image/png": "[encoded data removed]",
      "text/plain": [
       "plot without title"
      ]
     },
     "metadata": {
      "image/png": {
       "height": 500,
       "width": 625
      }
     },
     "output_type": "display_data"
    }
   ],
   "source": [
    "ggplot(plot_df, mapping = aes(x = value, y = Outcome)) +\n",
    "       geom_point() +\n",
    "       facet_wrap(~name, ncol = 2)"
   ]
  },
  {
   "cell_type": "markdown",
   "id": "935e60ea-5f33-4eba-97c0-59f0a3792ecf",
   "metadata": {},
   "source": [
    "Using your training data, build logistic regression model of `Outcome` with `BMI` and `Glucose` as predictors. \n",
    "- Use \"glm\" for you engine\n",
    "- The formula for your fit function will be `Outcome ~ BMI + Glucose`"
   ]
  },
  {
   "cell_type": "code",
   "execution_count": 9,
   "id": "60a6d5e7-ee47-40ad-9e4a-6f5d8ced92fe",
   "metadata": {
    "tags": []
   },
   "outputs": [
    {
     "data": {
      "text/html": [
       "<table class=\"dataframe\">\n",
       "<caption>A tibble: 576 × 3</caption>\n",
       "<thead>\n",
       "\t<tr><th scope=col>BMI</th><th scope=col>Glucose</th><th scope=col>Outcome</th></tr>\n",
       "\t<tr><th scope=col>&lt;dbl&gt;</th><th scope=col>&lt;dbl&gt;</th><th scope=col>&lt;fct&gt;</th></tr>\n",
       "</thead>\n",
       "<tbody>\n",
       "\t<tr><td>26.6</td><td> 85</td><td>0</td></tr>\n",
       "\t<tr><td>35.3</td><td>115</td><td>0</td></tr>\n",
       "\t<tr><td>27.1</td><td>139</td><td>0</td></tr>\n",
       "\t<tr><td>43.3</td><td>103</td><td>0</td></tr>\n",
       "\t<tr><td>39.3</td><td>126</td><td>0</td></tr>\n",
       "\t<tr><td>35.4</td><td> 99</td><td>0</td></tr>\n",
       "\t<tr><td>22.2</td><td>145</td><td>0</td></tr>\n",
       "\t<tr><td>34.1</td><td>117</td><td>0</td></tr>\n",
       "\t<tr><td>36.0</td><td>109</td><td>0</td></tr>\n",
       "\t<tr><td>24.8</td><td> 88</td><td>0</td></tr>\n",
       "\t<tr><td>19.9</td><td> 92</td><td>0</td></tr>\n",
       "\t<tr><td>27.6</td><td>122</td><td>0</td></tr>\n",
       "\t<tr><td>24.0</td><td>103</td><td>0</td></tr>\n",
       "\t<tr><td>33.2</td><td>138</td><td>0</td></tr>\n",
       "\t<tr><td>40.2</td><td>133</td><td>0</td></tr>\n",
       "\t<tr><td>22.7</td><td>106</td><td>0</td></tr>\n",
       "\t<tr><td>29.7</td><td>146</td><td>0</td></tr>\n",
       "\t<tr><td>28.0</td><td> 71</td><td>0</td></tr>\n",
       "\t<tr><td>19.4</td><td>103</td><td>0</td></tr>\n",
       "\t<tr><td>24.2</td><td>101</td><td>0</td></tr>\n",
       "\t<tr><td>24.4</td><td> 88</td><td>0</td></tr>\n",
       "\t<tr><td>34.7</td><td>150</td><td>0</td></tr>\n",
       "\t<tr><td>40.5</td><td>146</td><td>0</td></tr>\n",
       "\t<tr><td> 0.0</td><td> 84</td><td>0</td></tr>\n",
       "\t<tr><td>25.0</td><td> 44</td><td>0</td></tr>\n",
       "\t<tr><td>25.4</td><td>141</td><td>0</td></tr>\n",
       "\t<tr><td>29.0</td><td> 99</td><td>0</td></tr>\n",
       "\t<tr><td>42.7</td><td>109</td><td>0</td></tr>\n",
       "\t<tr><td>28.9</td><td>146</td><td>0</td></tr>\n",
       "\t<tr><td>35.1</td><td>129</td><td>0</td></tr>\n",
       "\t<tr><td>⋮</td><td>⋮</td><td>⋮</td></tr>\n",
       "\t<tr><td>27.5</td><td>111</td><td>1</td></tr>\n",
       "\t<tr><td>30.9</td><td>195</td><td>1</td></tr>\n",
       "\t<tr><td>24.8</td><td>156</td><td>1</td></tr>\n",
       "\t<tr><td>36.0</td><td>121</td><td>1</td></tr>\n",
       "\t<tr><td>49.6</td><td>162</td><td>1</td></tr>\n",
       "\t<tr><td>32.3</td><td>125</td><td>1</td></tr>\n",
       "\t<tr><td>46.1</td><td>144</td><td>1</td></tr>\n",
       "\t<tr><td>42.3</td><td>158</td><td>1</td></tr>\n",
       "\t<tr><td>30.4</td><td>142</td><td>1</td></tr>\n",
       "\t<tr><td>29.9</td><td>169</td><td>1</td></tr>\n",
       "\t<tr><td>27.6</td><td>125</td><td>1</td></tr>\n",
       "\t<tr><td> 0.0</td><td>115</td><td>1</td></tr>\n",
       "\t<tr><td>32.8</td><td>164</td><td>1</td></tr>\n",
       "\t<tr><td>41.2</td><td>129</td><td>1</td></tr>\n",
       "\t<tr><td>33.9</td><td>187</td><td>1</td></tr>\n",
       "\t<tr><td>35.6</td><td> 97</td><td>1</td></tr>\n",
       "\t<tr><td>29.3</td><td>149</td><td>1</td></tr>\n",
       "\t<tr><td>28.4</td><td>130</td><td>1</td></tr>\n",
       "\t<tr><td>28.4</td><td>120</td><td>1</td></tr>\n",
       "\t<tr><td>39.5</td><td>102</td><td>1</td></tr>\n",
       "\t<tr><td>42.3</td><td>120</td><td>1</td></tr>\n",
       "\t<tr><td>49.3</td><td>147</td><td>1</td></tr>\n",
       "\t<tr><td>36.4</td><td>187</td><td>1</td></tr>\n",
       "\t<tr><td>31.2</td><td>136</td><td>1</td></tr>\n",
       "\t<tr><td>43.3</td><td>181</td><td>1</td></tr>\n",
       "\t<tr><td>32.4</td><td>154</td><td>1</td></tr>\n",
       "\t<tr><td>36.5</td><td>128</td><td>1</td></tr>\n",
       "\t<tr><td>36.3</td><td>123</td><td>1</td></tr>\n",
       "\t<tr><td>35.5</td><td>190</td><td>1</td></tr>\n",
       "\t<tr><td>30.1</td><td>126</td><td>1</td></tr>\n",
       "</tbody>\n",
       "</table>\n"
      ],
      "text/latex": [
       "A tibble: 576 × 3\n",
       "\\begin{tabular}{lll}\n",
       " BMI & Glucose & Outcome\\\\\n",
       " <dbl> & <dbl> & <fct>\\\\\n",
       "\\hline\n",
       "\t 26.6 &  85 & 0\\\\\n",
       "\t 35.3 & 115 & 0\\\\\n",
       "\t 27.1 & 139 & 0\\\\\n",
       "\t 43.3 & 103 & 0\\\\\n",
       "\t 39.3 & 126 & 0\\\\\n",
       "\t 35.4 &  99 & 0\\\\\n",
       "\t 22.2 & 145 & 0\\\\\n",
       "\t 34.1 & 117 & 0\\\\\n",
       "\t 36.0 & 109 & 0\\\\\n",
       "\t 24.8 &  88 & 0\\\\\n",
       "\t 19.9 &  92 & 0\\\\\n",
       "\t 27.6 & 122 & 0\\\\\n",
       "\t 24.0 & 103 & 0\\\\\n",
       "\t 33.2 & 138 & 0\\\\\n",
       "\t 40.2 & 133 & 0\\\\\n",
       "\t 22.7 & 106 & 0\\\\\n",
       "\t 29.7 & 146 & 0\\\\\n",
       "\t 28.0 &  71 & 0\\\\\n",
       "\t 19.4 & 103 & 0\\\\\n",
       "\t 24.2 & 101 & 0\\\\\n",
       "\t 24.4 &  88 & 0\\\\\n",
       "\t 34.7 & 150 & 0\\\\\n",
       "\t 40.5 & 146 & 0\\\\\n",
       "\t  0.0 &  84 & 0\\\\\n",
       "\t 25.0 &  44 & 0\\\\\n",
       "\t 25.4 & 141 & 0\\\\\n",
       "\t 29.0 &  99 & 0\\\\\n",
       "\t 42.7 & 109 & 0\\\\\n",
       "\t 28.9 & 146 & 0\\\\\n",
       "\t 35.1 & 129 & 0\\\\\n",
       "\t ⋮ & ⋮ & ⋮\\\\\n",
       "\t 27.5 & 111 & 1\\\\\n",
       "\t 30.9 & 195 & 1\\\\\n",
       "\t 24.8 & 156 & 1\\\\\n",
       "\t 36.0 & 121 & 1\\\\\n",
       "\t 49.6 & 162 & 1\\\\\n",
       "\t 32.3 & 125 & 1\\\\\n",
       "\t 46.1 & 144 & 1\\\\\n",
       "\t 42.3 & 158 & 1\\\\\n",
       "\t 30.4 & 142 & 1\\\\\n",
       "\t 29.9 & 169 & 1\\\\\n",
       "\t 27.6 & 125 & 1\\\\\n",
       "\t  0.0 & 115 & 1\\\\\n",
       "\t 32.8 & 164 & 1\\\\\n",
       "\t 41.2 & 129 & 1\\\\\n",
       "\t 33.9 & 187 & 1\\\\\n",
       "\t 35.6 &  97 & 1\\\\\n",
       "\t 29.3 & 149 & 1\\\\\n",
       "\t 28.4 & 130 & 1\\\\\n",
       "\t 28.4 & 120 & 1\\\\\n",
       "\t 39.5 & 102 & 1\\\\\n",
       "\t 42.3 & 120 & 1\\\\\n",
       "\t 49.3 & 147 & 1\\\\\n",
       "\t 36.4 & 187 & 1\\\\\n",
       "\t 31.2 & 136 & 1\\\\\n",
       "\t 43.3 & 181 & 1\\\\\n",
       "\t 32.4 & 154 & 1\\\\\n",
       "\t 36.5 & 128 & 1\\\\\n",
       "\t 36.3 & 123 & 1\\\\\n",
       "\t 35.5 & 190 & 1\\\\\n",
       "\t 30.1 & 126 & 1\\\\\n",
       "\\end{tabular}\n"
      ],
      "text/markdown": [
       "\n",
       "A tibble: 576 × 3\n",
       "\n",
       "| BMI &lt;dbl&gt; | Glucose &lt;dbl&gt; | Outcome &lt;fct&gt; |\n",
       "|---|---|---|\n",
       "| 26.6 |  85 | 0 |\n",
       "| 35.3 | 115 | 0 |\n",
       "| 27.1 | 139 | 0 |\n",
       "| 43.3 | 103 | 0 |\n",
       "| 39.3 | 126 | 0 |\n",
       "| 35.4 |  99 | 0 |\n",
       "| 22.2 | 145 | 0 |\n",
       "| 34.1 | 117 | 0 |\n",
       "| 36.0 | 109 | 0 |\n",
       "| 24.8 |  88 | 0 |\n",
       "| 19.9 |  92 | 0 |\n",
       "| 27.6 | 122 | 0 |\n",
       "| 24.0 | 103 | 0 |\n",
       "| 33.2 | 138 | 0 |\n",
       "| 40.2 | 133 | 0 |\n",
       "| 22.7 | 106 | 0 |\n",
       "| 29.7 | 146 | 0 |\n",
       "| 28.0 |  71 | 0 |\n",
       "| 19.4 | 103 | 0 |\n",
       "| 24.2 | 101 | 0 |\n",
       "| 24.4 |  88 | 0 |\n",
       "| 34.7 | 150 | 0 |\n",
       "| 40.5 | 146 | 0 |\n",
       "|  0.0 |  84 | 0 |\n",
       "| 25.0 |  44 | 0 |\n",
       "| 25.4 | 141 | 0 |\n",
       "| 29.0 |  99 | 0 |\n",
       "| 42.7 | 109 | 0 |\n",
       "| 28.9 | 146 | 0 |\n",
       "| 35.1 | 129 | 0 |\n",
       "| ⋮ | ⋮ | ⋮ |\n",
       "| 27.5 | 111 | 1 |\n",
       "| 30.9 | 195 | 1 |\n",
       "| 24.8 | 156 | 1 |\n",
       "| 36.0 | 121 | 1 |\n",
       "| 49.6 | 162 | 1 |\n",
       "| 32.3 | 125 | 1 |\n",
       "| 46.1 | 144 | 1 |\n",
       "| 42.3 | 158 | 1 |\n",
       "| 30.4 | 142 | 1 |\n",
       "| 29.9 | 169 | 1 |\n",
       "| 27.6 | 125 | 1 |\n",
       "|  0.0 | 115 | 1 |\n",
       "| 32.8 | 164 | 1 |\n",
       "| 41.2 | 129 | 1 |\n",
       "| 33.9 | 187 | 1 |\n",
       "| 35.6 |  97 | 1 |\n",
       "| 29.3 | 149 | 1 |\n",
       "| 28.4 | 130 | 1 |\n",
       "| 28.4 | 120 | 1 |\n",
       "| 39.5 | 102 | 1 |\n",
       "| 42.3 | 120 | 1 |\n",
       "| 49.3 | 147 | 1 |\n",
       "| 36.4 | 187 | 1 |\n",
       "| 31.2 | 136 | 1 |\n",
       "| 43.3 | 181 | 1 |\n",
       "| 32.4 | 154 | 1 |\n",
       "| 36.5 | 128 | 1 |\n",
       "| 36.3 | 123 | 1 |\n",
       "| 35.5 | 190 | 1 |\n",
       "| 30.1 | 126 | 1 |\n",
       "\n"
      ],
      "text/plain": [
       "    BMI  Glucose Outcome\n",
       "1   26.6  85     0      \n",
       "2   35.3 115     0      \n",
       "3   27.1 139     0      \n",
       "4   43.3 103     0      \n",
       "5   39.3 126     0      \n",
       "6   35.4  99     0      \n",
       "7   22.2 145     0      \n",
       "8   34.1 117     0      \n",
       "9   36.0 109     0      \n",
       "10  24.8  88     0      \n",
       "11  19.9  92     0      \n",
       "12  27.6 122     0      \n",
       "13  24.0 103     0      \n",
       "14  33.2 138     0      \n",
       "15  40.2 133     0      \n",
       "16  22.7 106     0      \n",
       "17  29.7 146     0      \n",
       "18  28.0  71     0      \n",
       "19  19.4 103     0      \n",
       "20  24.2 101     0      \n",
       "21  24.4  88     0      \n",
       "22  34.7 150     0      \n",
       "23  40.5 146     0      \n",
       "24   0.0  84     0      \n",
       "25  25.0  44     0      \n",
       "26  25.4 141     0      \n",
       "27  29.0  99     0      \n",
       "28  42.7 109     0      \n",
       "29  28.9 146     0      \n",
       "30  35.1 129     0      \n",
       "⋮   ⋮    ⋮       ⋮      \n",
       "547 27.5 111     1      \n",
       "548 30.9 195     1      \n",
       "549 24.8 156     1      \n",
       "550 36.0 121     1      \n",
       "551 49.6 162     1      \n",
       "552 32.3 125     1      \n",
       "553 46.1 144     1      \n",
       "554 42.3 158     1      \n",
       "555 30.4 142     1      \n",
       "556 29.9 169     1      \n",
       "557 27.6 125     1      \n",
       "558  0.0 115     1      \n",
       "559 32.8 164     1      \n",
       "560 41.2 129     1      \n",
       "561 33.9 187     1      \n",
       "562 35.6  97     1      \n",
       "563 29.3 149     1      \n",
       "564 28.4 130     1      \n",
       "565 28.4 120     1      \n",
       "566 39.5 102     1      \n",
       "567 42.3 120     1      \n",
       "568 49.3 147     1      \n",
       "569 36.4 187     1      \n",
       "570 31.2 136     1      \n",
       "571 43.3 181     1      \n",
       "572 32.4 154     1      \n",
       "573 36.5 128     1      \n",
       "574 36.3 123     1      \n",
       "575 35.5 190     1      \n",
       "576 30.1 126     1      "
      ]
     },
     "metadata": {},
     "output_type": "display_data"
    },
    {
     "ename": "ERROR",
     "evalue": "Error in head.default(): argument \"x\" is missing, with no default\n",
     "output_type": "error",
     "traceback": [
      "Error in head.default(): argument \"x\" is missing, with no default\nTraceback:\n",
      "1. head.default()",
      "2. checkHT(n, dx <- dim(x))",
      "3. .handleSimpleError(function (cnd) \n . {\n .     watcher$capture_plot_and_output()\n .     cnd <- sanitize_call(cnd)\n .     watcher$push(cnd)\n .     switch(on_error, continue = invokeRestart(\"eval_continue\"), \n .         stop = invokeRestart(\"eval_stop\"), error = NULL)\n . }, \"argument \\\"x\\\" is missing, with no default\", base::quote(head.default()))"
     ]
    }
   ],
   "source": [
    "rec = recipe(Outcome ~ BMI + Glucose, data = diabetes_train)\n",
    "rec_prepped = prep(rec, diabetes_train)\n",
    "rec_prepped |> \n",
    "    juice()\n",
    "    head()"
   ]
  },
  {
   "cell_type": "code",
   "execution_count": 10,
   "id": "5cea3281-5260-4acb-979d-ae35046bfce7",
   "metadata": {
    "tags": []
   },
   "outputs": [
    {
     "data": {
      "text/plain": [
       "parsnip model object\n",
       "\n",
       "\n",
       "Call:  stats::glm(formula = Outcome ~ BMI + Glucose, family = stats::binomial, \n",
       "    data = data)\n",
       "\n",
       "Coefficients:\n",
       "(Intercept)          BMI      Glucose  \n",
       "   -7.75116      0.07977      0.03642  \n",
       "\n",
       "Degrees of Freedom: 575 Total (i.e. Null);  573 Residual\n",
       "Null Deviance:\t    745.1 \n",
       "Residual Deviance: 580 \tAIC: 586"
      ]
     },
     "metadata": {},
     "output_type": "display_data"
    }
   ],
   "source": [
    "\n",
    "mod = logistic_reg() |> set_engine('glm')\n",
    "mod_fit = mod |> fit(Outcome ~ BMI + Glucose, juice(rec_prepped))\n",
    "mod_fit"
   ]
  },
  {
   "cell_type": "markdown",
   "id": "9a1aa2d0-b6b4-42ad-8ac5-17c90e4bb216",
   "metadata": {},
   "source": [
    "Using `augment` with your fitted model and the `diabetes_test` data as arguments, create a new dataset called `diabetes_test_wPred` that is the `diabetes_test` table including predictions from your model. "
   ]
  },
  {
   "cell_type": "code",
   "execution_count": 37,
   "id": "36e7fbfa-b71a-4175-bcc1-e565a748c124",
   "metadata": {
    "tags": []
   },
   "outputs": [
    {
     "data": {
      "text/html": [
       "<table class=\"dataframe\">\n",
       "<caption>A tibble: 6 × 6</caption>\n",
       "<thead>\n",
       "\t<tr><th scope=col>.pred_class</th><th scope=col>.pred_0</th><th scope=col>.pred_1</th><th scope=col>BMI</th><th scope=col>Glucose</th><th scope=col>Outcome</th></tr>\n",
       "\t<tr><th scope=col>&lt;fct&gt;</th><th scope=col>&lt;dbl&gt;</th><th scope=col>&lt;dbl&gt;</th><th scope=col>&lt;dbl&gt;</th><th scope=col>&lt;dbl&gt;</th><th scope=col>&lt;fct&gt;</th></tr>\n",
       "</thead>\n",
       "<tbody>\n",
       "\t<tr><td>0</td><td>0.9114857</td><td>0.08851431</td><td>28.1</td><td> 89</td><td>0</td></tr>\n",
       "\t<tr><td>0</td><td>0.8302780</td><td>0.16972202</td><td>25.6</td><td>116</td><td>0</td></tr>\n",
       "\t<tr><td>0</td><td>0.6906757</td><td>0.30932429</td><td>35.3</td><td>115</td><td>0</td></tr>\n",
       "\t<tr><td>0</td><td>0.6562953</td><td>0.34370471</td><td>27.1</td><td>139</td><td>0</td></tr>\n",
       "\t<tr><td>0</td><td>0.6345837</td><td>0.36541625</td><td>43.3</td><td>103</td><td>0</td></tr>\n",
       "\t<tr><td>0</td><td>0.5189773</td><td>0.48102272</td><td>39.3</td><td>126</td><td>0</td></tr>\n",
       "</tbody>\n",
       "</table>\n"
      ],
      "text/latex": [
       "A tibble: 6 × 6\n",
       "\\begin{tabular}{llllll}\n",
       " .pred\\_class & .pred\\_0 & .pred\\_1 & BMI & Glucose & Outcome\\\\\n",
       " <fct> & <dbl> & <dbl> & <dbl> & <dbl> & <fct>\\\\\n",
       "\\hline\n",
       "\t 0 & 0.9114857 & 0.08851431 & 28.1 &  89 & 0\\\\\n",
       "\t 0 & 0.8302780 & 0.16972202 & 25.6 & 116 & 0\\\\\n",
       "\t 0 & 0.6906757 & 0.30932429 & 35.3 & 115 & 0\\\\\n",
       "\t 0 & 0.6562953 & 0.34370471 & 27.1 & 139 & 0\\\\\n",
       "\t 0 & 0.6345837 & 0.36541625 & 43.3 & 103 & 0\\\\\n",
       "\t 0 & 0.5189773 & 0.48102272 & 39.3 & 126 & 0\\\\\n",
       "\\end{tabular}\n"
      ],
      "text/markdown": [
       "\n",
       "A tibble: 6 × 6\n",
       "\n",
       "| .pred_class &lt;fct&gt; | .pred_0 &lt;dbl&gt; | .pred_1 &lt;dbl&gt; | BMI &lt;dbl&gt; | Glucose &lt;dbl&gt; | Outcome &lt;fct&gt; |\n",
       "|---|---|---|---|---|---|\n",
       "| 0 | 0.9114857 | 0.08851431 | 28.1 |  89 | 0 |\n",
       "| 0 | 0.8302780 | 0.16972202 | 25.6 | 116 | 0 |\n",
       "| 0 | 0.6906757 | 0.30932429 | 35.3 | 115 | 0 |\n",
       "| 0 | 0.6562953 | 0.34370471 | 27.1 | 139 | 0 |\n",
       "| 0 | 0.6345837 | 0.36541625 | 43.3 | 103 | 0 |\n",
       "| 0 | 0.5189773 | 0.48102272 | 39.3 | 126 | 0 |\n",
       "\n"
      ],
      "text/plain": [
       "  .pred_class .pred_0   .pred_1    BMI  Glucose Outcome\n",
       "1 0           0.9114857 0.08851431 28.1  89     0      \n",
       "2 0           0.8302780 0.16972202 25.6 116     0      \n",
       "3 0           0.6906757 0.30932429 35.3 115     0      \n",
       "4 0           0.6562953 0.34370471 27.1 139     0      \n",
       "5 0           0.6345837 0.36541625 43.3 103     0      \n",
       "6 0           0.5189773 0.48102272 39.3 126     0      "
      ]
     },
     "metadata": {},
     "output_type": "display_data"
    }
   ],
   "source": [
    "\n",
    "diabetes_test_wPred = augment(mod_fit, juice(rec_prepped))\n",
    "diabetes_test_wPred |> head()\n"
   ]
  },
  {
   "cell_type": "markdown",
   "id": "f35cf7da-ca1e-42d3-a27b-e79193a1ccfd",
   "metadata": {},
   "source": [
    "Run the code below to generate a confusion matrix for your model predictions. \n",
    "\n",
    "(❗️Hint: See Table 4.4 from [*Introduction to Statistical Learning (Version 2)*](https://www.statlearning.com/) for an example confusion matrix.)"
   ]
  },
  {
   "cell_type": "code",
   "execution_count": 38,
   "id": "fb3bfae0-9d17-48a0-bde7-4891f91a07aa",
   "metadata": {
    "tags": []
   },
   "outputs": [
    {
     "data": {
      "text/plain": [
       "          Truth\n",
       "Prediction   0   1\n",
       "         0 113  35\n",
       "         1  12  32"
      ]
     },
     "metadata": {},
     "output_type": "display_data"
    }
   ],
   "source": [
    "diabetes_test_wPred = augment(mod_fit, new_data = diabetes_test)\n",
    "\n",
    "diabetes_test_wPred |> conf_mat(Outcome, .pred_class)"
   ]
  },
  {
   "cell_type": "markdown",
   "id": "77f050c5-ede9-4e06-8f59-9427135391c4",
   "metadata": {},
   "source": [
    "❓ Based on the confusion matrix above, \n",
    "- How many individuals had diabetes in your test data?\n",
    "- Of those that actually had diabetes, how many were predicted to have diabetes by your model?\n",
    "- How many individuals predicted to have diabetes did not have diabetes?\n",
    "\n",
    "**Answer:*67 individuals had diabetes. Of those that actually had diabetes, 32 were predicted to have diabetes. 12 individuals predicted to have diabetes did not have diabetes*"
   ]
  }
 ],
 "metadata": {
  "kernelspec": {
   "display_name": ".conda-data730:R",
   "language": "R",
   "name": "conda-env-.conda-data730-r"
  },
  "language_info": {
   "codemirror_mode": "r",
   "file_extension": ".r",
   "mimetype": "text/x-r-source",
   "name": "R",
   "pygments_lexer": "r",
   "version": "4.3.3"
  }
 },
 "nbformat": 4,
 "nbformat_minor": 5
}
